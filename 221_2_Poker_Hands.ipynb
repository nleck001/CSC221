{
  "nbformat": 4,
  "nbformat_minor": 0,
  "metadata": {
    "colab": {
      "provenance": [],
      "gpuType": "T4",
      "authorship_tag": "ABX9TyPVHHM7x70ID/vR8VButwko",
      "include_colab_link": true
    },
    "kernelspec": {
      "name": "python3",
      "display_name": "Python 3"
    },
    "language_info": {
      "name": "python"
    },
    "accelerator": "GPU"
  },
  "cells": [
    {
      "cell_type": "markdown",
      "metadata": {
        "id": "view-in-github",
        "colab_type": "text"
      },
      "source": [
        "<a href=\"https://colab.research.google.com/github/nleck001/CSC221/blob/main/221_2_Poker_Hands.ipynb\" target=\"_parent\"><img src=\"https://colab.research.google.com/assets/colab-badge.svg\" alt=\"Open In Colab\"/></a>"
      ]
    },
    {
      "cell_type": "markdown",
      "source": [
        "CSC221 Poker Hand Frequency Demonstrator\n",
        "Ned Lecky"
      ],
      "metadata": {
        "id": "IALwMCM_fD0i"
      }
    },
    {
      "cell_type": "code",
      "execution_count": 40,
      "metadata": {
        "id": "i6TuXX1eJn2y"
      },
      "outputs": [],
      "source": [
        "import random\n",
        "from collections import Counter\n"
      ]
    },
    {
      "cell_type": "code",
      "source": [
        "SUITS = ['C', 'D', 'H', 'S']\n",
        "DENOMINATIONS = ['A', '2', '3', '4', '5', '6', '7', '8', '9', '10', 'J', 'Q', 'K']\n"
      ],
      "metadata": {
        "id": "ter_A5YqJpw6"
      },
      "execution_count": 41,
      "outputs": []
    },
    {
      "cell_type": "code",
      "source": [
        "def pick_a_random_card():\n",
        "    return random.choice(DENOMINATIONS) + random.choice(SUITS)\n",
        "\n",
        "for i in range(100):\n",
        "    print(pick_a_random_card(), end=' ')\n"
      ],
      "metadata": {
        "colab": {
          "base_uri": "https://localhost:8080/"
        },
        "id": "YOnHs6zLKGVp",
        "outputId": "dd588427-d05d-47ba-a8b5-36098e22fc8a"
      },
      "execution_count": 42,
      "outputs": [
        {
          "output_type": "stream",
          "name": "stdout",
          "text": [
            "5D 9C 5D 9D 7D JH KC AD 3H 7C 8S JC QS 2H 8H 6S QC 10H QS 5H JH 9S 9D AH 9H 2S 5D 8S 2S 4D 8H JD 10S AS KD 4H KC AC 3S 10S 6C 10D 7D KD QC 8D 8S KD 9C JH 2S 10H JC 5H KS 3H 2C 7S QS 2S 7H 4D 5H 10C 2C 7C 4S 10S 6H 9C QC 8H 5C 2C 5S JH QH 2D 2S 9D 10H KH 6D 3H JS 9S AH 2H 7H 3D 2S 6C 2C 7H AS AC JS KH 8C 6C "
          ]
        }
      ]
    },
    {
      "cell_type": "code",
      "source": [
        "def make_deck():\n",
        "    deck = []\n",
        "\n",
        "    for suit in SUITS:\n",
        "        for denomination in DENOMINATIONS:\n",
        "            deck.append(denomination + suit)\n",
        "\n",
        "    return deck\n",
        "\n",
        "random.seed(42)\n",
        "deck = make_deck()\n",
        "print(len(deck), deck)\n"
      ],
      "metadata": {
        "colab": {
          "base_uri": "https://localhost:8080/"
        },
        "id": "D5LEW7YkKaIs",
        "outputId": "fe3f2226-0eed-4093-96e3-32b974d34098"
      },
      "execution_count": 43,
      "outputs": [
        {
          "output_type": "stream",
          "name": "stdout",
          "text": [
            "52 ['AC', '2C', '3C', '4C', '5C', '6C', '7C', '8C', '9C', '10C', 'JC', 'QC', 'KC', 'AD', '2D', '3D', '4D', '5D', '6D', '7D', '8D', '9D', '10D', 'JD', 'QD', 'KD', 'AH', '2H', '3H', '4H', '5H', '6H', '7H', '8H', '9H', '10H', 'JH', 'QH', 'KH', 'AS', '2S', '3S', '4S', '5S', '6S', '7S', '8S', '9S', '10S', 'JS', 'QS', 'KS']\n"
          ]
        }
      ]
    },
    {
      "cell_type": "code",
      "source": [
        "def extract_denoms(hand):\n",
        "    denoms = []\n",
        "    for card in hand:\n",
        "        denoms.append(card[0:-1]) # This handles 2-character denominations, i.e. 10!\n",
        "    return denoms\n",
        "\n",
        "def extract_suits(hand):\n",
        "    suits = []\n",
        "    for card in hand:\n",
        "        suits.append(card[-1]) # The suit is always the last character.\n",
        "    return suits\n",
        "\n",
        "random.seed(42)\n",
        "deck = make_deck()\n",
        "\n",
        "denoms = extract_denoms(deck)\n",
        "print(denoms)\n",
        "print(Counter(denoms))\n",
        "\n",
        "suits = extract_suits(deck)\n",
        "print(suits)\n",
        "print(Counter(suits))\n"
      ],
      "metadata": {
        "colab": {
          "base_uri": "https://localhost:8080/"
        },
        "id": "dwQIi06tZpYw",
        "outputId": "54ee6d05-0961-4b06-b0a0-2872634bf1d1"
      },
      "execution_count": 44,
      "outputs": [
        {
          "output_type": "stream",
          "name": "stdout",
          "text": [
            "['A', '2', '3', '4', '5', '6', '7', '8', '9', '10', 'J', 'Q', 'K', 'A', '2', '3', '4', '5', '6', '7', '8', '9', '10', 'J', 'Q', 'K', 'A', '2', '3', '4', '5', '6', '7', '8', '9', '10', 'J', 'Q', 'K', 'A', '2', '3', '4', '5', '6', '7', '8', '9', '10', 'J', 'Q', 'K']\n",
            "Counter({'A': 4, '2': 4, '3': 4, '4': 4, '5': 4, '6': 4, '7': 4, '8': 4, '9': 4, '10': 4, 'J': 4, 'Q': 4, 'K': 4})\n",
            "['C', 'C', 'C', 'C', 'C', 'C', 'C', 'C', 'C', 'C', 'C', 'C', 'C', 'D', 'D', 'D', 'D', 'D', 'D', 'D', 'D', 'D', 'D', 'D', 'D', 'D', 'H', 'H', 'H', 'H', 'H', 'H', 'H', 'H', 'H', 'H', 'H', 'H', 'H', 'S', 'S', 'S', 'S', 'S', 'S', 'S', 'S', 'S', 'S', 'S', 'S', 'S']\n",
            "Counter({'C': 13, 'D': 13, 'H': 13, 'S': 13})\n"
          ]
        }
      ]
    },
    {
      "cell_type": "markdown",
      "source": [],
      "metadata": {
        "id": "APm-X4hXe_4H"
      }
    },
    {
      "cell_type": "code",
      "source": [
        "def shuffle(deck):\n",
        "    for i in range(10000):\n",
        "        i1 = random.randint(0, len(deck)-1)\n",
        "        i2 = random.randint(0, len(deck)-1)\n",
        "        deck[i2], deck[i1] = deck[i1], deck[i2]\n",
        "\n",
        "random.seed(42)\n",
        "deck = make_deck()\n",
        "print(deck)\n",
        "shuffle(deck)\n",
        "print(deck)"
      ],
      "metadata": {
        "colab": {
          "base_uri": "https://localhost:8080/"
        },
        "id": "bi-JtlBwLGOc",
        "outputId": "a8570cbd-9ec6-42c0-e9eb-a41f7e836a42"
      },
      "execution_count": 45,
      "outputs": [
        {
          "output_type": "stream",
          "name": "stdout",
          "text": [
            "['AC', '2C', '3C', '4C', '5C', '6C', '7C', '8C', '9C', '10C', 'JC', 'QC', 'KC', 'AD', '2D', '3D', '4D', '5D', '6D', '7D', '8D', '9D', '10D', 'JD', 'QD', 'KD', 'AH', '2H', '3H', '4H', '5H', '6H', '7H', '8H', '9H', '10H', 'JH', 'QH', 'KH', 'AS', '2S', '3S', '4S', '5S', '6S', '7S', '8S', '9S', '10S', 'JS', 'QS', 'KS']\n",
            "['5D', '9C', '7S', '3H', 'QS', 'JS', 'JH', 'KC', '4S', 'AD', '8H', '3S', '3C', '4H', 'JC', '9H', '2D', '6H', 'KS', '7C', '3D', '2C', '6D', '6C', '5C', 'QH', '8C', '10H', 'JD', '10S', 'AC', '8S', '9D', '9S', 'QD', '7H', '10C', '2H', '5S', '10D', 'KD', 'QC', '4C', 'AS', 'AH', '8D', '7D', '4D', 'KH', '5H', '2S', '6S']\n"
          ]
        }
      ]
    },
    {
      "cell_type": "code",
      "source": [
        "def draw5(deck):\n",
        "    hand = []\n",
        "    for i in range(5):\n",
        "        i = random.randint(0,len(deck)-1)\n",
        "        hand.append(deck.pop(i))\n",
        "    return hand\n",
        "\n",
        "random.seed(42)\n",
        "deck = make_deck()\n",
        "print(len(deck))\n",
        "hand = draw5(deck)\n",
        "print(len(deck))\n",
        "print(hand)\n"
      ],
      "metadata": {
        "colab": {
          "base_uri": "https://localhost:8080/"
        },
        "id": "C6wSuw7mL5iU",
        "outputId": "24d5ae3d-1eb0-4ae9-e2b9-f4c900698f4e"
      },
      "execution_count": 46,
      "outputs": [
        {
          "output_type": "stream",
          "name": "stdout",
          "text": [
            "52\n",
            "47\n",
            "['2S', '8C', '2C', 'QS', '7D']\n"
          ]
        }
      ]
    },
    {
      "cell_type": "code",
      "source": [
        "def count_one_pair(n):\n",
        "    n_one_pair = 0\n",
        "    for i in range(n):\n",
        "        deck = make_deck()\n",
        "        hand = draw5(deck)\n",
        "        denoms = extract_denoms(hand)\n",
        "        card_counts = Counter(denoms)\n",
        "        count_counts = Counter(card_counts.values())\n",
        "\n",
        "        #print(hand)\n",
        "        #print(denoms)\n",
        "        #print(card_counts)\n",
        "        #print(count_counts)\n",
        "\n",
        "        if count_counts[2] == 1 and count_counts[3] == 0:\n",
        "            n_one_pair += 1\n",
        "    return n_one_pair\n",
        "\n",
        "random.seed(42)\n",
        "\n",
        "N = 100000\n",
        "n = count_one_pair(N)\n",
        "print(f'count_one_pair: {n} out of {N} ({n * 100 / N}% Theoretical: 42.2569%)')\n"
      ],
      "metadata": {
        "colab": {
          "base_uri": "https://localhost:8080/"
        },
        "id": "AbamL1oCVnbB",
        "outputId": "9781797e-151b-41b1-c14c-9ca3570e7ffd"
      },
      "execution_count": 47,
      "outputs": [
        {
          "output_type": "stream",
          "name": "stdout",
          "text": [
            "count_one_pair: 42179 out of 100000 (42.179% Theoretical: 42.2569%)\n"
          ]
        }
      ]
    },
    {
      "cell_type": "code",
      "source": [
        "def count_two_pair(n):\n",
        "    n_two_pair = 0\n",
        "    for i in range(n):\n",
        "        deck = make_deck()\n",
        "        hand = draw5(deck)\n",
        "        denoms = extract_denoms(hand)\n",
        "        card_counts = Counter(denoms)\n",
        "        count_counts = Counter(card_counts.values())\n",
        "\n",
        "        if count_counts[2] == 2:\n",
        "            n_two_pair += 1\n",
        "    return n_two_pair\n",
        "\n",
        "random.seed(42)\n",
        "\n",
        "N = 100000\n",
        "n = count_two_pair(N)\n",
        "print(f'count_two_pair: {n} out of {N} ({n * 100 / N}% Theoretical: 4.7539%)')\n",
        "\n"
      ],
      "metadata": {
        "colab": {
          "base_uri": "https://localhost:8080/"
        },
        "id": "f-hTYwz8Msth",
        "outputId": "25ab23c8-983b-4afe-929c-7e1022fb1213"
      },
      "execution_count": 48,
      "outputs": [
        {
          "output_type": "stream",
          "name": "stdout",
          "text": [
            "count_two_pair: 4672 out of 100000 (4.672% Theoretical: 4.7539%)\n"
          ]
        }
      ]
    },
    {
      "cell_type": "code",
      "source": [
        "def count_three_of_a_kind(n):\n",
        "    n_three_of_a_kind = 0\n",
        "    for i in range(n):\n",
        "        deck = make_deck()\n",
        "        hand = draw5(deck)\n",
        "        denoms = extract_denoms(hand)\n",
        "        card_counts = Counter(denoms)\n",
        "        count_counts = Counter(card_counts.values())\n",
        "\n",
        "        if count_counts[3] == 1 and count_counts[2] == 0:\n",
        "            n_three_of_a_kind += 1\n",
        "    return n_three_of_a_kind\n",
        "\n",
        "random.seed(42)\n",
        "\n",
        "N = 100000\n",
        "n = count_three_of_a_kind(N)\n",
        "print(f'count_three_of_a_kind: {n} out of {N} ({n * 100 / N}% Theoretical: 2.1128%)')\n"
      ],
      "metadata": {
        "colab": {
          "base_uri": "https://localhost:8080/"
        },
        "id": "QkLKwvycOA34",
        "outputId": "eb4a4dcf-d958-498b-95b6-36415413d315"
      },
      "execution_count": 49,
      "outputs": [
        {
          "output_type": "stream",
          "name": "stdout",
          "text": [
            "count_three_of_a_kind: 2222 out of 100000 (2.222% Theoretical: 2.1128%)\n"
          ]
        }
      ]
    },
    {
      "cell_type": "code",
      "source": [
        "def count_multiple(n):\n",
        "    n_one_pair = 0;\n",
        "    n_two_pair = 0;\n",
        "    n_three_of_a_kind = 0\n",
        "    n_full_house = 0\n",
        "\n",
        "    for i in range(n):\n",
        "        deck = make_deck()\n",
        "        hand = draw5(deck)\n",
        "        denoms = extract_denoms(hand)\n",
        "        card_counts = Counter(denoms)\n",
        "        count_counts = Counter(card_counts.values())\n",
        "\n",
        "        # One Pair\n",
        "        if count_counts[2] == 1 and count_counts[3] == 0:\n",
        "            n_one_pair += 1\n",
        "\n",
        "        # Two Pair\n",
        "        if count_counts[2] == 2:\n",
        "            n_two_pair += 1\n",
        "\n",
        "        # Three of a Kind\n",
        "        if count_counts[3] == 1 and count_counts[2] == 0:\n",
        "            n_three_of_a_kind += 1\n",
        "\n",
        "        # Full House\n",
        "        if count_counts[3] == 1 and count_counts[2] == 1:\n",
        "            n_full_house += 1\n",
        "    return n_one_pair, n_two_pair, n_three_of_a_kind, n_full_house\n",
        "\n",
        "random.seed(42)\n",
        "\n",
        "N = 100000\n",
        "n_one_pair, n_two_pair, n_three_of_a_kind, n_full_house = count_multiple(N)\n",
        "\n",
        "print(f'n_one_pair: {n_one_pair} out of {N} ({n_one_pair * 100 / N}% Theoretical: 42.2569%)')\n",
        "print(f'n_two_pair: {n_two_pair} out of {N} ({n_two_pair * 100 / N}% Theoretical: 4.7539%)')\n",
        "print(f'n_three_of_a_kind: {n_three_of_a_kind} out of {N} ({n_three_of_a_kind * 100 / N}% Theoretical: 2.1128%)')\n",
        "print(f'n_full_house: {n_full_house} out of {N} ({n_full_house * 100 / N}% Theoretical: 0.1441%)')\n"
      ],
      "metadata": {
        "colab": {
          "base_uri": "https://localhost:8080/"
        },
        "id": "XcRCvAsqSIPa",
        "outputId": "9b285ebb-51fc-477b-91a7-cffb30e06d83"
      },
      "execution_count": 50,
      "outputs": [
        {
          "output_type": "stream",
          "name": "stdout",
          "text": [
            "n_one_pair: 42179 out of 100000 (42.179% Theoretical: 42.2569%)\n",
            "n_two_pair: 4672 out of 100000 (4.672% Theoretical: 4.7539%)\n",
            "n_three_of_a_kind: 2222 out of 100000 (2.222% Theoretical: 2.1128%)\n",
            "n_full_house: 150 out of 100000 (0.15% Theoretical: 0.1441%)\n"
          ]
        }
      ]
    }
  ]
}