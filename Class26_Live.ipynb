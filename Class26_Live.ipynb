{
  "cells": [
    {
      "cell_type": "markdown",
      "metadata": {
        "id": "view-in-github",
        "colab_type": "text"
      },
      "source": [
        "<a href=\"https://colab.research.google.com/github/nleck001/CSC221/blob/main/Class26_Live.ipynb\" target=\"_parent\"><img src=\"https://colab.research.google.com/assets/colab-badge.svg\" alt=\"Open In Colab\"/></a>"
      ]
    },
    {
      "cell_type": "code",
      "execution_count": null,
      "metadata": {
        "colab": {
          "background_save": true,
          "base_uri": "https://localhost:8080/"
        },
        "id": "A5h5xPIeyECS",
        "outputId": "dd282bf4-4826-4dc9-9d09-b476210997b3"
      },
      "outputs": [
        {
          "data": {
            "text/plain": [
              "<generator object gen1 at 0x7a35eeba9af0>"
            ]
          },
          "execution_count": 1,
          "metadata": {},
          "output_type": "execute_result"
        }
      ],
      "source": [
        "# Generators  Ch. 6 Distilled\n",
        "\n",
        "def gen1(n):\n",
        "    while n > 0:\n",
        "        print(f\"Hi I'm the gen3erator {n}\")\n",
        "        yield n\n",
        "        n -= 1\n",
        "\n",
        "gen1(10)\n"
      ]
    },
    {
      "cell_type": "code",
      "execution_count": null,
      "metadata": {
        "colab": {
          "background_save": true,
          "base_uri": "https://localhost:8080/"
        },
        "id": "dmOtUawhylTS",
        "outputId": "549f25a7-5686-4ef7-ef32-e08c3c326761"
      },
      "outputs": [
        {
          "name": "stdout",
          "output_type": "stream",
          "text": [
            "Hi I'm the gen3erator 10\n",
            "10\n",
            "Hi I'm the gen3erator 9\n",
            "9\n",
            "Hi I'm the gen3erator 8\n",
            "8\n",
            "Hi I'm the gen3erator 7\n",
            "7\n",
            "Hi I'm the gen3erator 6\n",
            "6\n",
            "Hi I'm the gen3erator 5\n",
            "5\n",
            "Hi I'm the gen3erator 4\n",
            "4\n",
            "Hi I'm the gen3erator 3\n",
            "3\n",
            "Hi I'm the gen3erator 2\n",
            "2\n",
            "Hi I'm the gen3erator 1\n",
            "1\n"
          ]
        }
      ],
      "source": [
        "for x in gen1(10):\n",
        "    print(x)"
      ]
    },
    {
      "cell_type": "code",
      "execution_count": null,
      "metadata": {
        "colab": {
          "background_save": true,
          "base_uri": "https://localhost:8080/"
        },
        "id": "JusjnTAtythL",
        "outputId": "c1ec01ad-dc31-4800-9c9d-2508911014c5"
      },
      "outputs": [
        {
          "name": "stdout",
          "output_type": "stream",
          "text": [
            "5 9 13 17 21 25 29 33 37 41 45 49 "
          ]
        }
      ],
      "source": [
        "def myrange(start, stop, step):\n",
        "    x = start\n",
        "    if step >  0:\n",
        "        while x < stop:\n",
        "            yield x\n",
        "            x += step\n",
        "    else:\n",
        "        while x > stop:\n",
        "            yield x\n",
        "            x += step\n",
        "\n",
        "for x in myrange(5, 50, 4):\n",
        "    print(x, end=' ')"
      ]
    },
    {
      "cell_type": "code",
      "execution_count": null,
      "metadata": {
        "colab": {
          "background_save": true,
          "base_uri": "https://localhost:8080/"
        },
        "id": "53VU6FeU0DlM",
        "outputId": "daefc746-1764-4f24-c524-d6bd316ac566"
      },
      "outputs": [
        {
          "name": "stdout",
          "output_type": "stream",
          "text": [
            "100 97 94 91 88 85 82 79 76 73 70 67 64 61 58 55 52 "
          ]
        }
      ],
      "source": [
        "for x in myrange(100, 50, -3):\n",
        "    print(x, end=' ')"
      ]
    },
    {
      "cell_type": "code",
      "execution_count": null,
      "metadata": {
        "colab": {
          "background_save": true,
          "base_uri": "https://localhost:8080/"
        },
        "id": "MDsDDCQn0QP1",
        "outputId": "f4f9b7fe-438c-479d-8d34-304e9aa74377"
      },
      "outputs": [
        {
          "name": "stdout",
          "output_type": "stream",
          "text": [
            "2.1666666666666665\n",
            "[13, 'ned', 8, 13, 'ned', 8, 13, 'ned', 8, 13, 'ned', 8, 13, 'ned', 8, 13, 'ned', 8]\n",
            "I'd rather not 13/0!\n",
            "I'd rather not abc + f!\n",
            "272\n",
            "I'd rather not jhsdfgfds!\n",
            "I'd rather not q!\n",
            "Have a nice day!\n"
          ]
        }
      ],
      "source": [
        "# More interesting\n",
        "\n",
        "abc = 8\n",
        "\n",
        "def get_input(prompt):\n",
        "    typed = ''\n",
        "    while typed != 'q':\n",
        "        typed = input(f\"{prompt} (type 'q' to quit): \")\n",
        "        yield typed\n",
        "\n",
        "    print('Have a nice day!')\n",
        "\n",
        "\n",
        "def calculator():\n",
        "    for command in get_input(\"What should I calculate?\"):\n",
        "        ask_to_exec = f\"print({command})\"\n",
        "        #print(f\"I'll try to exec({ask_to_exec})\")\n",
        "        try:\n",
        "            exec(ask_to_exec)\n",
        "        except:\n",
        "            print(f\"I'd rather not {command}!\")\n",
        "\n",
        "calculator()\n",
        "\n",
        "#for x in get_input(\"How about now?\"):\n",
        "#    print(x)\n",
        "\n",
        "\n",
        "\n"
      ]
    },
    {
      "cell_type": "code",
      "execution_count": null,
      "metadata": {
        "id": "Vt5Lzh-D2B1G"
      },
      "outputs": [],
      "source": [
        "3\n",
        "hdf"
      ]
    }
  ],
  "metadata": {
    "colab": {
      "provenance": [],
      "authorship_tag": "ABX9TyNxzfKcrBF0G8DehaAcnjnG",
      "include_colab_link": true
    },
    "kernelspec": {
      "display_name": "Python 3",
      "name": "python3"
    },
    "language_info": {
      "name": "python"
    }
  },
  "nbformat": 4,
  "nbformat_minor": 0
}