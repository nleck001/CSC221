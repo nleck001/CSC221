{
  "nbformat": 4,
  "nbformat_minor": 0,
  "metadata": {
    "colab": {
      "provenance": [],
      "authorship_tag": "ABX9TyOKYY1gE8rP1+y1FcJtgisj",
      "include_colab_link": true
    },
    "kernelspec": {
      "name": "python3",
      "display_name": "Python 3"
    },
    "language_info": {
      "name": "python"
    }
  },
  "cells": [
    {
      "cell_type": "markdown",
      "metadata": {
        "id": "view-in-github",
        "colab_type": "text"
      },
      "source": [
        "<a href=\"https://colab.research.google.com/github/nleck001/CSC221/blob/main/Class26_GeneratorSandbox.ipynb\" target=\"_parent\"><img src=\"https://colab.research.google.com/assets/colab-badge.svg\" alt=\"Open In Colab\"/></a>"
      ]
    },
    {
      "cell_type": "code",
      "execution_count": null,
      "metadata": {
        "colab": {
          "base_uri": "https://localhost:8080/"
        },
        "id": "EeWvgL5meXny",
        "outputId": "88cf31de-2414-4fe6-828f-cd1f782ae058"
      },
      "outputs": [
        {
          "output_type": "stream",
          "name": "stdout",
          "text": [
            "True\n",
            "True\n",
            "True\n",
            "True\n"
          ]
        }
      ],
      "source": [
        "def has_three_nines(x):\n",
        "    return True\n",
        "    n_str = str(x)\n",
        "    c = n_str.count('9')\n",
        "    return c == 3\n",
        "\n",
        "print(has_three_nines(91909))\n",
        "print(has_three_nines('fred'))\n",
        "print(has_three_nines(98))\n",
        "print(has_three_nines(910900089))"
      ]
    },
    {
      "cell_type": "code",
      "source": [
        "# This crashes!\n",
        "#a = list([x for x in range(10000000000)])\n",
        "#print(len(a))"
      ],
      "metadata": {
        "id": "fy9lJHafkJxv"
      },
      "execution_count": null,
      "outputs": []
    },
    {
      "cell_type": "code",
      "source": [
        "import time\n",
        "N = 100000000\n",
        "\n",
        "t0 = time.time()\n",
        "c1 = sum(has_three_nines(x) for x in range(N))\n",
        "t1 = time.time()\n",
        "\n",
        "print(f'{c1} took {t1-t0:0.3f} sec')\n"
      ],
      "metadata": {
        "colab": {
          "base_uri": "https://localhost:8080/"
        },
        "id": "EPRdcGAhf2Tx",
        "outputId": "fb14c9b3-5f5e-41d6-aebf-7269bfc3ddd9"
      },
      "execution_count": null,
      "outputs": [
        {
          "output_type": "stream",
          "name": "stdout",
          "text": [
            "100000000 took 14.906 sec\n"
          ]
        }
      ]
    },
    {
      "cell_type": "code",
      "source": [
        "t0 = time.time()\n",
        "c2_list = list([has_three_nines(x) for x in range(N)])\n",
        "c2 = sum(c2_list)\n",
        "t1 = time.time()\n",
        "\n",
        "print(f'{c2} took {t1-t0:0.3f} sec')"
      ],
      "metadata": {
        "colab": {
          "base_uri": "https://localhost:8080/"
        },
        "id": "ZAqZWOxWiyA8",
        "outputId": "9687b9c7-57f6-4322-f5de-4a25f71d50b6"
      },
      "execution_count": null,
      "outputs": [
        {
          "output_type": "stream",
          "name": "stdout",
          "text": [
            "100000000 took 16.006 sec\n"
          ]
        }
      ]
    },
    {
      "cell_type": "code",
      "source": [
        "t0 = time.time()\n",
        "num_list = [has_three_nines(x) for x in range(N)]\n",
        "t1 = time.time()\n",
        "c3 = sum(num_list)\n",
        "t2 = time.time()\n",
        "print(f'{c3} took {t1-t0:0.3f} + {t2-t1:0.3f} = {t2-t0:0.3f}sec')\n"
      ],
      "metadata": {
        "colab": {
          "base_uri": "https://localhost:8080/"
        },
        "id": "zh70ZDBmeyfW",
        "outputId": "9e0749cc-5646-4f78-9c0a-4fef669c90ef"
      },
      "execution_count": null,
      "outputs": [
        {
          "output_type": "stream",
          "name": "stdout",
          "text": [
            "100000000 took 14.339 + 0.488 = 14.827sec\n"
          ]
        }
      ]
    },
    {
      "cell_type": "code",
      "source": [
        "t0 = time.time()\n",
        "num_list = (has_three_nines(x) for x in range(N))\n",
        "t1 = time.time()\n",
        "c4 = sum(num_list)\n",
        "t2 = time.time()\n",
        "print(f'{c4} took {t1-t0:0.3f} + {t2-t1:0.3f} = {t2-t0:0.3f}sec')"
      ],
      "metadata": {
        "colab": {
          "base_uri": "https://localhost:8080/"
        },
        "id": "Vp-5SlRXh37m",
        "outputId": "01909d7b-9b56-4a8f-fb79-6989c820ea0d"
      },
      "execution_count": null,
      "outputs": [
        {
          "output_type": "stream",
          "name": "stdout",
          "text": [
            "100000000 took 0.000 + 15.252 = 15.252sec\n"
          ]
        }
      ]
    },
    {
      "cell_type": "code",
      "source": [],
      "metadata": {
        "id": "SQnGwBR4iN83"
      },
      "execution_count": null,
      "outputs": []
    }
  ]
}