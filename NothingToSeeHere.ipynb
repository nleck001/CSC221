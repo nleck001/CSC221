{
  "nbformat": 4,
  "nbformat_minor": 0,
  "metadata": {
    "colab": {
      "provenance": [],
      "authorship_tag": "ABX9TyNNa+lb2wusMRRo/oFd7Zwr",
      "include_colab_link": true
    },
    "kernelspec": {
      "name": "python3",
      "display_name": "Python 3"
    },
    "language_info": {
      "name": "python"
    }
  },
  "cells": [
    {
      "cell_type": "markdown",
      "metadata": {
        "id": "view-in-github",
        "colab_type": "text"
      },
      "source": [
        "<a href=\"https://colab.research.google.com/github/nleck001/CSC221/blob/main/NothingToSeeHere.ipynb\" target=\"_parent\"><img src=\"https://colab.research.google.com/assets/colab-badge.svg\" alt=\"Open In Colab\"/></a>"
      ]
    },
    {
      "cell_type": "markdown",
      "source": [
        "CSC221A Fall 2023\n",
        "Ned Lecky"
      ],
      "metadata": {
        "id": "7hKA0jzUvOfy"
      }
    },
    {
      "cell_type": "code",
      "source": [
        "# Cell 1: Demonstrate int, float, and string\n",
        "a = 13\n",
        "b = 21.55674\n",
        "c = 'teststring'\n",
        "\n",
        "print(type(a), a, a + 7)\n",
        "print(type(b), b, b*5)\n",
        "print(type(c), c, c*5)"
      ],
      "metadata": {
        "colab": {
          "base_uri": "https://localhost:8080/"
        },
        "id": "I6luOevlvr3k",
        "outputId": "4bb5dbfc-537e-4d3d-97db-8eb6c5126d5a"
      },
      "execution_count": 4,
      "outputs": [
        {
          "output_type": "stream",
          "name": "stdout",
          "text": [
            "<class 'int'> 13 20\n",
            "<class 'float'> 21.55674 107.78370000000001\n",
            "<class 'str'> teststring teststringteststringteststringteststringteststring\n"
          ]
        }
      ]
    },
    {
      "cell_type": "code",
      "source": [
        "# Cell 2: Show how an f-string works (f'Something like this with {something} in it.')\n",
        "print(f'The variable a is {a} and c*5 is {c*5}')"
      ],
      "metadata": {
        "colab": {
          "base_uri": "https://localhost:8080/"
        },
        "id": "dF9QPPTSvtaC",
        "outputId": "60810c41-5844-47b0-a5c6-57806add3340"
      },
      "execution_count": 5,
      "outputs": [
        {
          "output_type": "stream",
          "name": "stdout",
          "text": [
            "The variable a is 13 and c*5 is teststringteststringteststringteststringteststring\n"
          ]
        }
      ]
    },
    {
      "cell_type": "code",
      "source": [
        "# Cell 3: Demonstrate some methods of the string class\n",
        "name = 'fred flintstone'\n",
        "print(name, name.title())\n",
        "upper = name.upper()\n",
        "print(upper)"
      ],
      "metadata": {
        "colab": {
          "base_uri": "https://localhost:8080/"
        },
        "id": "FhXAogBSvtcq",
        "outputId": "dbf1b37a-8dd2-4301-90b6-5c7cddb3a3a3"
      },
      "execution_count": 8,
      "outputs": [
        {
          "output_type": "stream",
          "name": "stdout",
          "text": [
            "fred flintstone Fred Flintstone\n",
            "FRED FLINTSTONE\n"
          ]
        }
      ]
    },
    {
      "cell_type": "code",
      "source": [
        "# Cell 4: Do something with a list\n",
        "abc = [13, 27, 120, 8]\n",
        "print(abc)\n",
        "for x in sorted(abc):\n",
        "    print(x)\n",
        "\n",
        "print(f'min: {min(abc)}')\n",
        "print('min: ' + str(min(abc)))\n",
        "print('max: ' + str(max(abc)))\n",
        "print('sum: ' + str(sum(abc)))\n"
      ],
      "metadata": {
        "colab": {
          "base_uri": "https://localhost:8080/"
        },
        "id": "5UDyR36mvtfa",
        "outputId": "94047448-6f10-4d89-b33c-300bc20ec051"
      },
      "execution_count": 13,
      "outputs": [
        {
          "output_type": "stream",
          "name": "stdout",
          "text": [
            "[13, 27, 120, 8]\n",
            "8\n",
            "13\n",
            "27\n",
            "120\n",
            "min: 8\n",
            "min: 8\n",
            "max: 120\n",
            "sum: 168\n"
          ]
        }
      ]
    },
    {
      "cell_type": "code",
      "source": [
        "# Cell 5: Do something with a list of lists\n",
        "xyz = []\n",
        "xyz.append([13,12,5])\n",
        "xyz.append([12, 'asd'])\n",
        "\n",
        "print(xyz)\n",
        "\n",
        "xyz2 = [[13, 12, 5], [8, 5], [12, 'asd']]\n",
        "print(xyz2)"
      ],
      "metadata": {
        "colab": {
          "base_uri": "https://localhost:8080/"
        },
        "id": "xH2fJcHRvtiT",
        "outputId": "a368c9d1-97b3-41f0-ebfc-81cff9c9e7b6"
      },
      "execution_count": 15,
      "outputs": [
        {
          "output_type": "stream",
          "name": "stdout",
          "text": [
            "[[13, 12, 5], [12, 'asd']]\n",
            "[[13, 12, 5], [8, 5], [12, 'asd']]\n"
          ]
        }
      ]
    },
    {
      "cell_type": "code",
      "source": [
        "# Cell 6: Show how to print a list in sorted order without changing it.\n",
        "abc = [13, 27, 120, 8]\n",
        "\n",
        "# NOT the assignment\n",
        "abc.sort()\n",
        "print(abc)\n",
        "\n",
        "# This is better!\n",
        "abc = [13, 27, 120, 8]\n",
        "print(sorted(abc))\n",
        "print(abc)"
      ],
      "metadata": {
        "colab": {
          "base_uri": "https://localhost:8080/"
        },
        "id": "AvvMUrzLvtyC",
        "outputId": "646a6d5e-cfd6-47e4-f51c-0038d404c68b"
      },
      "execution_count": 18,
      "outputs": [
        {
          "output_type": "stream",
          "name": "stdout",
          "text": [
            "[8, 13, 27, 120]\n",
            "[8, 13, 27, 120]\n",
            "[13, 27, 120, 8]\n"
          ]
        }
      ]
    },
    {
      "cell_type": "code",
      "source": [
        "# Cell 7: Printing a series of numbers using for and range\n",
        "def f1():\n",
        "    for x in range(5, 100, 6):\n",
        "        print(x, end=' ')\n",
        "\n",
        "f1()"
      ],
      "metadata": {
        "colab": {
          "base_uri": "https://localhost:8080/"
        },
        "id": "QODwy7O4y3zU",
        "outputId": "31ef8ac6-91a7-4b8a-976d-017848fc1d18"
      },
      "execution_count": 23,
      "outputs": [
        {
          "output_type": "stream",
          "name": "stdout",
          "text": [
            "5 11 17 23 29 35 41 47 53 59 65 71 77 83 89 95 "
          ]
        }
      ]
    },
    {
      "cell_type": "code",
      "source": [
        "# Cell 8: Printing a series of squares of all numbers from 1 to 1000 that are not multiples of 7 using list comprehension.\n",
        "print([x*x for x in range(1,1000) if x % 7 != 0])"
      ],
      "metadata": {
        "colab": {
          "base_uri": "https://localhost:8080/"
        },
        "id": "tqfJKSL8y37b",
        "outputId": "06d5b580-ca38-4cd9-d345-b16d46479d15"
      },
      "execution_count": 24,
      "outputs": [
        {
          "output_type": "stream",
          "name": "stdout",
          "text": [
            "[1, 4, 9, 16, 25, 36, 64, 81, 100, 121, 144, 169, 225, 256, 289, 324, 361, 400, 484, 529, 576, 625, 676, 729, 841, 900, 961, 1024, 1089, 1156, 1296, 1369, 1444, 1521, 1600, 1681, 1849, 1936, 2025, 2116, 2209, 2304, 2500, 2601, 2704, 2809, 2916, 3025, 3249, 3364, 3481, 3600, 3721, 3844, 4096, 4225, 4356, 4489, 4624, 4761, 5041, 5184, 5329, 5476, 5625, 5776, 6084, 6241, 6400, 6561, 6724, 6889, 7225, 7396, 7569, 7744, 7921, 8100, 8464, 8649, 8836, 9025, 9216, 9409, 9801, 10000, 10201, 10404, 10609, 10816, 11236, 11449, 11664, 11881, 12100, 12321, 12769, 12996, 13225, 13456, 13689, 13924, 14400, 14641, 14884, 15129, 15376, 15625, 16129, 16384, 16641, 16900, 17161, 17424, 17956, 18225, 18496, 18769, 19044, 19321, 19881, 20164, 20449, 20736, 21025, 21316, 21904, 22201, 22500, 22801, 23104, 23409, 24025, 24336, 24649, 24964, 25281, 25600, 26244, 26569, 26896, 27225, 27556, 27889, 28561, 28900, 29241, 29584, 29929, 30276, 30976, 31329, 31684, 32041, 32400, 32761, 33489, 33856, 34225, 34596, 34969, 35344, 36100, 36481, 36864, 37249, 37636, 38025, 38809, 39204, 39601, 40000, 40401, 40804, 41616, 42025, 42436, 42849, 43264, 43681, 44521, 44944, 45369, 45796, 46225, 46656, 47524, 47961, 48400, 48841, 49284, 49729, 50625, 51076, 51529, 51984, 52441, 52900, 53824, 54289, 54756, 55225, 55696, 56169, 57121, 57600, 58081, 58564, 59049, 59536, 60516, 61009, 61504, 62001, 62500, 63001, 64009, 64516, 65025, 65536, 66049, 66564, 67600, 68121, 68644, 69169, 69696, 70225, 71289, 71824, 72361, 72900, 73441, 73984, 75076, 75625, 76176, 76729, 77284, 77841, 78961, 79524, 80089, 80656, 81225, 81796, 82944, 83521, 84100, 84681, 85264, 85849, 87025, 87616, 88209, 88804, 89401, 90000, 91204, 91809, 92416, 93025, 93636, 94249, 95481, 96100, 96721, 97344, 97969, 98596, 99856, 100489, 101124, 101761, 102400, 103041, 104329, 104976, 105625, 106276, 106929, 107584, 108900, 109561, 110224, 110889, 111556, 112225, 113569, 114244, 114921, 115600, 116281, 116964, 118336, 119025, 119716, 120409, 121104, 121801, 123201, 123904, 124609, 125316, 126025, 126736, 128164, 128881, 129600, 130321, 131044, 131769, 133225, 133956, 134689, 135424, 136161, 136900, 138384, 139129, 139876, 140625, 141376, 142129, 143641, 144400, 145161, 145924, 146689, 147456, 148996, 149769, 150544, 151321, 152100, 152881, 154449, 155236, 156025, 156816, 157609, 158404, 160000, 160801, 161604, 162409, 163216, 164025, 165649, 166464, 167281, 168100, 168921, 169744, 171396, 172225, 173056, 173889, 174724, 175561, 177241, 178084, 178929, 179776, 180625, 181476, 183184, 184041, 184900, 185761, 186624, 187489, 189225, 190096, 190969, 191844, 192721, 193600, 195364, 196249, 197136, 198025, 198916, 199809, 201601, 202500, 203401, 204304, 205209, 206116, 207936, 208849, 209764, 210681, 211600, 212521, 214369, 215296, 216225, 217156, 218089, 219024, 220900, 221841, 222784, 223729, 224676, 225625, 227529, 228484, 229441, 230400, 231361, 232324, 234256, 235225, 236196, 237169, 238144, 239121, 241081, 242064, 243049, 244036, 245025, 246016, 248004, 249001, 250000, 251001, 252004, 253009, 255025, 256036, 257049, 258064, 259081, 260100, 262144, 263169, 264196, 265225, 266256, 267289, 269361, 270400, 271441, 272484, 273529, 274576, 276676, 277729, 278784, 279841, 280900, 281961, 284089, 285156, 286225, 287296, 288369, 289444, 291600, 292681, 293764, 294849, 295936, 297025, 299209, 300304, 301401, 302500, 303601, 304704, 306916, 308025, 309136, 310249, 311364, 312481, 314721, 315844, 316969, 318096, 319225, 320356, 322624, 323761, 324900, 326041, 327184, 328329, 330625, 331776, 332929, 334084, 335241, 336400, 338724, 339889, 341056, 342225, 343396, 344569, 346921, 348100, 349281, 350464, 351649, 352836, 355216, 356409, 357604, 358801, 360000, 361201, 363609, 364816, 366025, 367236, 368449, 369664, 372100, 373321, 374544, 375769, 376996, 378225, 380689, 381924, 383161, 384400, 385641, 386884, 389376, 390625, 391876, 393129, 394384, 395641, 398161, 399424, 400689, 401956, 403225, 404496, 407044, 408321, 409600, 410881, 412164, 413449, 416025, 417316, 418609, 419904, 421201, 422500, 425104, 426409, 427716, 429025, 430336, 431649, 434281, 435600, 436921, 438244, 439569, 440896, 443556, 444889, 446224, 447561, 448900, 450241, 452929, 454276, 455625, 456976, 458329, 459684, 462400, 463761, 465124, 466489, 467856, 469225, 471969, 473344, 474721, 476100, 477481, 478864, 481636, 483025, 484416, 485809, 487204, 488601, 491401, 492804, 494209, 495616, 497025, 498436, 501264, 502681, 504100, 505521, 506944, 508369, 511225, 512656, 514089, 515524, 516961, 518400, 521284, 522729, 524176, 525625, 527076, 528529, 531441, 532900, 534361, 535824, 537289, 538756, 541696, 543169, 544644, 546121, 547600, 549081, 552049, 553536, 555025, 556516, 558009, 559504, 562500, 564001, 565504, 567009, 568516, 570025, 573049, 574564, 576081, 577600, 579121, 580644, 583696, 585225, 586756, 588289, 589824, 591361, 594441, 595984, 597529, 599076, 600625, 602176, 605284, 606841, 608400, 609961, 611524, 613089, 616225, 617796, 619369, 620944, 622521, 624100, 627264, 628849, 630436, 632025, 633616, 635209, 638401, 640000, 641601, 643204, 644809, 646416, 649636, 651249, 652864, 654481, 656100, 657721, 660969, 662596, 664225, 665856, 667489, 669124, 672400, 674041, 675684, 677329, 678976, 680625, 683929, 685584, 687241, 688900, 690561, 692224, 695556, 697225, 698896, 700569, 702244, 703921, 707281, 708964, 710649, 712336, 714025, 715716, 719104, 720801, 722500, 724201, 725904, 727609, 731025, 732736, 734449, 736164, 737881, 739600, 743044, 744769, 746496, 748225, 749956, 751689, 755161, 756900, 758641, 760384, 762129, 763876, 767376, 769129, 770884, 772641, 774400, 776161, 779689, 781456, 783225, 784996, 786769, 788544, 792100, 793881, 795664, 797449, 799236, 801025, 804609, 806404, 808201, 810000, 811801, 813604, 817216, 819025, 820836, 822649, 824464, 826281, 829921, 831744, 833569, 835396, 837225, 839056, 842724, 844561, 846400, 848241, 850084, 851929, 855625, 857476, 859329, 861184, 863041, 864900, 868624, 870489, 872356, 874225, 876096, 877969, 881721, 883600, 885481, 887364, 889249, 891136, 894916, 896809, 898704, 900601, 902500, 904401, 908209, 910116, 912025, 913936, 915849, 917764, 921600, 923521, 925444, 927369, 929296, 931225, 935089, 937024, 938961, 940900, 942841, 944784, 948676, 950625, 952576, 954529, 956484, 958441, 962361, 964324, 966289, 968256, 970225, 972196, 976144, 978121, 980100, 982081, 984064, 986049, 990025, 992016, 994009, 996004, 998001]\n"
          ]
        }
      ]
    },
    {
      "cell_type": "code",
      "source": [
        "# Cell 9: Generating all of the prime numbers from 2 to 1000 using the Sieve of Eratosthenes which I suggest you ask ChatGPT for help on.\n",
        "# Thanks to CharGPT 3.5 which I asked: how do you do sieve of Eratosthenes in python?\n",
        "def sieve_of_eratosthenes(limit):\n",
        "    # Create a boolean list \"is_prime\" and initialize all elements to True\n",
        "    is_prime = [True] * (limit + 1)\n",
        "\n",
        "    # 0 and 1 are not prime numbers\n",
        "    is_prime[0] = is_prime[1] = False\n",
        "\n",
        "    # Iterate through the numbers from 2 to the square root of the limit\n",
        "    for i in range(2, int(limit**0.5) + 1):\n",
        "        # If i is a prime number, mark its multiples as not prime\n",
        "        if is_prime[i]:\n",
        "            for j in range(i*i, limit + 1, i):\n",
        "                is_prime[j] = False\n",
        "\n",
        "    # Return a list of prime numbers up to the given limit\n",
        "    primes = [num for num in range(2, limit + 1) if is_prime[num]]\n",
        "    return primes\n",
        "\n",
        "# Example: Find all prime numbers up to N\n",
        "limit = 5000\n",
        "result = sieve_of_eratosthenes(limit)\n",
        "print(result)\n"
      ],
      "metadata": {
        "colab": {
          "base_uri": "https://localhost:8080/"
        },
        "id": "S0aTGhQOy3_T",
        "outputId": "eeba11db-f5d2-4ba2-ec8a-ca53ac680938"
      },
      "execution_count": 26,
      "outputs": [
        {
          "output_type": "stream",
          "name": "stdout",
          "text": [
            "[2, 3, 5, 7, 11, 13, 17, 19, 23, 29, 31, 37, 41, 43, 47, 53, 59, 61, 67, 71, 73, 79, 83, 89, 97, 101, 103, 107, 109, 113, 127, 131, 137, 139, 149, 151, 157, 163, 167, 173, 179, 181, 191, 193, 197, 199, 211, 223, 227, 229, 233, 239, 241, 251, 257, 263, 269, 271, 277, 281, 283, 293, 307, 311, 313, 317, 331, 337, 347, 349, 353, 359, 367, 373, 379, 383, 389, 397, 401, 409, 419, 421, 431, 433, 439, 443, 449, 457, 461, 463, 467, 479, 487, 491, 499, 503, 509, 521, 523, 541, 547, 557, 563, 569, 571, 577, 587, 593, 599, 601, 607, 613, 617, 619, 631, 641, 643, 647, 653, 659, 661, 673, 677, 683, 691, 701, 709, 719, 727, 733, 739, 743, 751, 757, 761, 769, 773, 787, 797, 809, 811, 821, 823, 827, 829, 839, 853, 857, 859, 863, 877, 881, 883, 887, 907, 911, 919, 929, 937, 941, 947, 953, 967, 971, 977, 983, 991, 997, 1009, 1013, 1019, 1021, 1031, 1033, 1039, 1049, 1051, 1061, 1063, 1069, 1087, 1091, 1093, 1097, 1103, 1109, 1117, 1123, 1129, 1151, 1153, 1163, 1171, 1181, 1187, 1193, 1201, 1213, 1217, 1223, 1229, 1231, 1237, 1249, 1259, 1277, 1279, 1283, 1289, 1291, 1297, 1301, 1303, 1307, 1319, 1321, 1327, 1361, 1367, 1373, 1381, 1399, 1409, 1423, 1427, 1429, 1433, 1439, 1447, 1451, 1453, 1459, 1471, 1481, 1483, 1487, 1489, 1493, 1499, 1511, 1523, 1531, 1543, 1549, 1553, 1559, 1567, 1571, 1579, 1583, 1597, 1601, 1607, 1609, 1613, 1619, 1621, 1627, 1637, 1657, 1663, 1667, 1669, 1693, 1697, 1699, 1709, 1721, 1723, 1733, 1741, 1747, 1753, 1759, 1777, 1783, 1787, 1789, 1801, 1811, 1823, 1831, 1847, 1861, 1867, 1871, 1873, 1877, 1879, 1889, 1901, 1907, 1913, 1931, 1933, 1949, 1951, 1973, 1979, 1987, 1993, 1997, 1999, 2003, 2011, 2017, 2027, 2029, 2039, 2053, 2063, 2069, 2081, 2083, 2087, 2089, 2099, 2111, 2113, 2129, 2131, 2137, 2141, 2143, 2153, 2161, 2179, 2203, 2207, 2213, 2221, 2237, 2239, 2243, 2251, 2267, 2269, 2273, 2281, 2287, 2293, 2297, 2309, 2311, 2333, 2339, 2341, 2347, 2351, 2357, 2371, 2377, 2381, 2383, 2389, 2393, 2399, 2411, 2417, 2423, 2437, 2441, 2447, 2459, 2467, 2473, 2477, 2503, 2521, 2531, 2539, 2543, 2549, 2551, 2557, 2579, 2591, 2593, 2609, 2617, 2621, 2633, 2647, 2657, 2659, 2663, 2671, 2677, 2683, 2687, 2689, 2693, 2699, 2707, 2711, 2713, 2719, 2729, 2731, 2741, 2749, 2753, 2767, 2777, 2789, 2791, 2797, 2801, 2803, 2819, 2833, 2837, 2843, 2851, 2857, 2861, 2879, 2887, 2897, 2903, 2909, 2917, 2927, 2939, 2953, 2957, 2963, 2969, 2971, 2999, 3001, 3011, 3019, 3023, 3037, 3041, 3049, 3061, 3067, 3079, 3083, 3089, 3109, 3119, 3121, 3137, 3163, 3167, 3169, 3181, 3187, 3191, 3203, 3209, 3217, 3221, 3229, 3251, 3253, 3257, 3259, 3271, 3299, 3301, 3307, 3313, 3319, 3323, 3329, 3331, 3343, 3347, 3359, 3361, 3371, 3373, 3389, 3391, 3407, 3413, 3433, 3449, 3457, 3461, 3463, 3467, 3469, 3491, 3499, 3511, 3517, 3527, 3529, 3533, 3539, 3541, 3547, 3557, 3559, 3571, 3581, 3583, 3593, 3607, 3613, 3617, 3623, 3631, 3637, 3643, 3659, 3671, 3673, 3677, 3691, 3697, 3701, 3709, 3719, 3727, 3733, 3739, 3761, 3767, 3769, 3779, 3793, 3797, 3803, 3821, 3823, 3833, 3847, 3851, 3853, 3863, 3877, 3881, 3889, 3907, 3911, 3917, 3919, 3923, 3929, 3931, 3943, 3947, 3967, 3989, 4001, 4003, 4007, 4013, 4019, 4021, 4027, 4049, 4051, 4057, 4073, 4079, 4091, 4093, 4099, 4111, 4127, 4129, 4133, 4139, 4153, 4157, 4159, 4177, 4201, 4211, 4217, 4219, 4229, 4231, 4241, 4243, 4253, 4259, 4261, 4271, 4273, 4283, 4289, 4297, 4327, 4337, 4339, 4349, 4357, 4363, 4373, 4391, 4397, 4409, 4421, 4423, 4441, 4447, 4451, 4457, 4463, 4481, 4483, 4493, 4507, 4513, 4517, 4519, 4523, 4547, 4549, 4561, 4567, 4583, 4591, 4597, 4603, 4621, 4637, 4639, 4643, 4649, 4651, 4657, 4663, 4673, 4679, 4691, 4703, 4721, 4723, 4729, 4733, 4751, 4759, 4783, 4787, 4789, 4793, 4799, 4801, 4813, 4817, 4831, 4861, 4871, 4877, 4889, 4903, 4909, 4919, 4931, 4933, 4937, 4943, 4951, 4957, 4967, 4969, 4973, 4987, 4993, 4999]\n"
          ]
        }
      ]
    },
    {
      "cell_type": "code",
      "source": [
        "# Cell 10: Create a generator from your function above that you can use to print the first N prime numbers. This should look like:\n",
        "def my_prime_generator(N):\n",
        "    primes = sieve_of_eratosthenes(N)\n",
        "\n",
        "    for x in primes:\n",
        "        yield x\n",
        "\n",
        "for x in my_prime_generator(200):\n",
        "    print(x, end=' ')"
      ],
      "metadata": {
        "colab": {
          "base_uri": "https://localhost:8080/"
        },
        "id": "I2IGi0Hoy4Cj",
        "outputId": "5aa72de9-abaf-4c0f-e2cd-da5e62285c48"
      },
      "execution_count": 28,
      "outputs": [
        {
          "output_type": "stream",
          "name": "stdout",
          "text": [
            "2 3 5 7 11 13 17 19 23 29 31 37 41 43 47 53 59 61 67 71 73 79 83 89 97 101 103 107 109 113 127 131 137 139 149 151 157 163 167 173 179 181 191 193 197 199 "
          ]
        }
      ]
    },
    {
      "cell_type": "code",
      "source": [
        "# Cell 11: Generate 1000 random integers in a list (random.randint(...)) and print their min, max, sum, and average."
      ],
      "metadata": {
        "id": "ANODmSjxy4Fb"
      },
      "execution_count": null,
      "outputs": []
    },
    {
      "cell_type": "code",
      "source": [
        "# Cell 12: Write a simple function that uses if, elif, and else and show that it works."
      ],
      "metadata": {
        "id": "xiuErsu_y4IS"
      },
      "execution_count": null,
      "outputs": []
    },
    {
      "cell_type": "code",
      "source": [
        "# Cell 13: Show me three things from PEP-8 that surprise you"
      ],
      "metadata": {
        "id": "CvMG6sPsy4K6"
      },
      "execution_count": null,
      "outputs": []
    },
    {
      "cell_type": "code",
      "source": [
        "# Cell 14: Create a file using %%file testfile.txt in Colab. The file should contain lines like the following:\n",
        "# Amy, cat\n",
        "# Fred, dog\n",
        "# Hunter, dog\n",
        "# Peena, parakeet\n",
        "# Rover, dog"
      ],
      "metadata": {
        "id": "m2dD8mvUy4Nq"
      },
      "execution_count": null,
      "outputs": []
    },
    {
      "cell_type": "code",
      "source": [
        "%%file testfile.txt\n",
        "Amy, cat\n",
        "Fred, dog\n",
        "Hunter, dog\n",
        "Peena, parakeet\n",
        "Rover, dog"
      ],
      "metadata": {
        "colab": {
          "base_uri": "https://localhost:8080/"
        },
        "id": "5mAqchYa14Sc",
        "outputId": "638195bb-b7be-400e-c408-46841753f19d"
      },
      "execution_count": 30,
      "outputs": [
        {
          "output_type": "stream",
          "name": "stdout",
          "text": [
            "Writing testfile.txt\n"
          ]
        }
      ]
    },
    {
      "cell_type": "code",
      "source": [
        "# Cell 15: Read that file in and convert it to a dictionary. Show how you can lookup pet type by using pet name with your dictionary.\n",
        "dict1 = {}\n",
        "with open('testfile.txt', 'r') as file:\n",
        "    while line := file.readline():\n",
        "        line = line.strip()\n",
        "        key, value = line.split(',')\n",
        "        dict1[key] = value.strip()\n",
        "\n",
        "print(dict1)\n"
      ],
      "metadata": {
        "colab": {
          "base_uri": "https://localhost:8080/"
        },
        "id": "HdvIZ-B_2Djr",
        "outputId": "ec5f8059-de3a-417f-aae3-40264774db56"
      },
      "execution_count": 34,
      "outputs": [
        {
          "output_type": "stream",
          "name": "stdout",
          "text": [
            "{'Amy': 'cat', 'Fred': 'dog', 'Hunter': 'dog', 'Peena': 'parakeet', 'Rover': 'dog'}\n"
          ]
        }
      ]
    },
    {
      "cell_type": "code",
      "source": [
        "# Cell 16: Generate a list of all the unique pet types in the dictionary. Use a set to make this happen.\n",
        "print(dict1.values())\n",
        "pet_types = set(dict1.values())\n",
        "print(pet_types)"
      ],
      "metadata": {
        "colab": {
          "base_uri": "https://localhost:8080/"
        },
        "id": "pRxDMpU020Y1",
        "outputId": "602d9788-bb1c-4a5d-cab4-2f38ddf84566"
      },
      "execution_count": 36,
      "outputs": [
        {
          "output_type": "stream",
          "name": "stdout",
          "text": [
            "dict_values(['cat', 'dog', 'dog', 'parakeet', 'dog'])\n",
            "{'parakeet', 'dog', 'cat'}\n"
          ]
        }
      ]
    },
    {
      "cell_type": "code",
      "source": [
        "# Cell 17: Use a while loop to print the numbers from 80 down to 16 by 8. Do not use for or range.\n",
        "n = 80\n",
        "while n >= 16:\n",
        "    print(n)\n",
        "    n -= 8\n",
        "# Cell 18: Write a function that takes three numbers and returns their min, max, and sum as a tuple.\n",
        "def f1(n1, n2, n3):\n",
        "    max_n = max(n1, n2, n3)\n",
        "    min_n = min(n1, n2, n3)\n",
        "    sum_n = sum([n1, n2, n3])\n",
        "\n",
        "    return min_n, max_n, sum_n\n",
        "\n",
        "print(f1(13, 21, 4))\n",
        "\n",
        "# Cell 19: Write a function that takes any number of numbers and returns their min, max, and sum as a tuple.\n",
        "def f2(*n):\n",
        "    max_n = max(n)\n",
        "    min_n = min(n)\n",
        "    sum_n = sum(n)\n",
        "\n",
        "    return min_n, max_n, sum_n\n",
        "\n",
        "print(f2(13, 21, 4, 81, -5, 30, 12))"
      ],
      "metadata": {
        "colab": {
          "base_uri": "https://localhost:8080/"
        },
        "id": "kqkPMKyi3P0f",
        "outputId": "ef8fc15c-7b5d-4a8e-ac9f-cb233f26740e"
      },
      "execution_count": 42,
      "outputs": [
        {
          "output_type": "stream",
          "name": "stdout",
          "text": [
            "80\n",
            "72\n",
            "64\n",
            "56\n",
            "48\n",
            "40\n",
            "32\n",
            "24\n",
            "16\n",
            "(4, 21, 38)\n",
            "(-5, 81, 156)\n"
          ]
        }
      ]
    },
    {
      "cell_type": "code",
      "execution_count": 1,
      "metadata": {
        "id": "3CewBTUbsR9s"
      },
      "outputs": [],
      "source": [
        "# Cell 21: Create a class that uses __init__, __repr__, __str__, and __add__. Demonstrate that all of the methods work.\n",
        "# Cell 22: Is your birth date included in the digits of pi? Where? Feel free to use the code from Chapter 10.\n",
        "# Off to VS Code... although you can do this in the Colab if you know how!\n",
        "# Perform the following functions in files stored in a folder called Assignment26-28. You must post the folder to your GitHub unless you know how to do all of this right in Colab!\n",
        "# Put three of your above functions in a file called final_functions.py. Show that they work using&nbsp;python final_functions.py from the command line.\n",
        "# Hint, from Colab, you can use %%file final_functions.py in one cell and then use !python final_functions.py in the next!\n",
        "# Add a file final.py that imports final_functions.py and exercises them a bit using python final.py from the command line.\n",
        "# Add a file test_final.py and use pytest from the command line to test the functions. Show that the tests pass.\n",
        "# Put a bug in one of your functions. Show that your pytest tests now fail!"
      ]
    },
    {
      "cell_type": "code",
      "source": [
        "# Cell 20: Create a decorator called traceroo and use it to print messages showing how your function above executes.\n",
        "def traceroo(func):\n",
        "    def newfunc(*args, **kwargs):\n",
        "        print(f'TRACEROO {func.__name__} {args} {kwargs}')\n",
        "        return func(*args, **kwargs)\n",
        "    return newfunc\n",
        "\n",
        "f1d = traceroo(f1)\n",
        "print(f1(3, 2, 1))\n",
        "print(f1d(3, 2, 1))\n",
        "\n",
        "@traceroo\n",
        "def f4():\n",
        "    print(\"Hi... I'm f4\")\n",
        "\n",
        "f4()"
      ],
      "metadata": {
        "colab": {
          "base_uri": "https://localhost:8080/"
        },
        "id": "8onGNZrs4d-h",
        "outputId": "3ee751eb-0e89-41c7-8a23-bcdcf080af7b"
      },
      "execution_count": 47,
      "outputs": [
        {
          "output_type": "stream",
          "name": "stdout",
          "text": [
            "(1, 3, 6)\n",
            "TRACEROO f1 (3, 2, 1) {}\n",
            "(1, 3, 6)\n",
            "TRACEROO f4 () {}\n",
            "Hi... I'm f4\n"
          ]
        }
      ]
    },
    {
      "cell_type": "code",
      "source": [
        "# Pytest\n"
      ],
      "metadata": {
        "id": "KbLBm4v-4-14"
      },
      "execution_count": null,
      "outputs": []
    },
    {
      "cell_type": "code",
      "source": [
        "%%file functions.py\n",
        "def f5(a):\n",
        "    ret = a+5\n",
        "    print(ret)\n",
        "    return ret\n",
        "\n",
        "def f6(a, b):\n",
        "    return a+b\n"
      ],
      "metadata": {
        "colab": {
          "base_uri": "https://localhost:8080/"
        },
        "id": "3hYK6iXK5nUz",
        "outputId": "58745589-968b-4c51-8eae-f6c6347b1854"
      },
      "execution_count": 51,
      "outputs": [
        {
          "output_type": "stream",
          "name": "stdout",
          "text": [
            "Overwriting functions.py\n"
          ]
        }
      ]
    },
    {
      "cell_type": "code",
      "source": [
        "%%file test_functions.py\n",
        "import functions as ff\n",
        "\n",
        "def test_test1():\n",
        "    assert ff.f5(5) == 5+5\n",
        "    assert ff.f6(5, 7) == 12\n",
        "\n",
        "def test_test2():\n",
        "    assert ff.f5(8) == 8+5\n",
        "    assert ff.f6(5, 9) == 13\n",
        "\n"
      ],
      "metadata": {
        "colab": {
          "base_uri": "https://localhost:8080/"
        },
        "id": "IrfqZAeW5ucL",
        "outputId": "9c3d2b09-d703-4bc8-b2b2-da8a82d56fcd"
      },
      "execution_count": 54,
      "outputs": [
        {
          "output_type": "stream",
          "name": "stdout",
          "text": [
            "Overwriting test_functions.py\n"
          ]
        }
      ]
    },
    {
      "cell_type": "code",
      "source": [
        "!pytest"
      ],
      "metadata": {
        "colab": {
          "base_uri": "https://localhost:8080/"
        },
        "id": "hVFr9QBb6KbD",
        "outputId": "66eb553a-d4ba-4906-8717-360193bb8515"
      },
      "execution_count": 55,
      "outputs": [
        {
          "output_type": "stream",
          "name": "stdout",
          "text": [
            "\u001b[1m======================================= test session starts ========================================\u001b[0m\n",
            "platform linux -- Python 3.10.12, pytest-7.4.3, pluggy-1.3.0\n",
            "rootdir: /content\n",
            "plugins: anyio-3.7.1\n",
            "\u001b[1mcollecting ... \u001b[0m\u001b[1m\rcollected 2 items                                                                                  \u001b[0m\n",
            "\n",
            "test_functions.py \u001b[32m.\u001b[0m\u001b[31mF\u001b[0m\u001b[31m                                                                         [100%]\u001b[0m\n",
            "\n",
            "============================================= FAILURES =============================================\n",
            "\u001b[31m\u001b[1m____________________________________________ test_test2 ____________________________________________\u001b[0m\n",
            "\n",
            "    \u001b[94mdef\u001b[39;49;00m \u001b[92mtest_test2\u001b[39;49;00m():\u001b[90m\u001b[39;49;00m\n",
            "        \u001b[94massert\u001b[39;49;00m ff.f5(\u001b[94m8\u001b[39;49;00m) == \u001b[94m8\u001b[39;49;00m+\u001b[94m5\u001b[39;49;00m\u001b[90m\u001b[39;49;00m\n",
            ">       \u001b[94massert\u001b[39;49;00m ff.f6(\u001b[94m5\u001b[39;49;00m, \u001b[94m9\u001b[39;49;00m) == \u001b[94m13\u001b[39;49;00m\u001b[90m\u001b[39;49;00m\n",
            "\u001b[1m\u001b[31mE       assert 14 == 13\u001b[0m\n",
            "\u001b[1m\u001b[31mE        +  where 14 = <function f6 at 0x7c7c715f8dc0>(5, 9)\u001b[0m\n",
            "\u001b[1m\u001b[31mE        +    where <function f6 at 0x7c7c715f8dc0> = ff.f6\u001b[0m\n",
            "\n",
            "\u001b[1m\u001b[31mtest_functions.py\u001b[0m:9: AssertionError\n",
            "--------------------------------------- Captured stdout call ---------------------------------------\n",
            "13\n",
            "\u001b[36m\u001b[1m===================================== short test summary info ======================================\u001b[0m\n",
            "\u001b[31mFAILED\u001b[0m test_functions.py::\u001b[1mtest_test2\u001b[0m - assert 14 == 13\n",
            "\u001b[31m=================================== \u001b[31m\u001b[1m1 failed\u001b[0m, \u001b[32m1 passed\u001b[0m\u001b[31m in 0.12s\u001b[0m\u001b[31m ====================================\u001b[0m\n"
          ]
        }
      ]
    },
    {
      "cell_type": "code",
      "source": [],
      "metadata": {
        "id": "XVnjZncz6SPz"
      },
      "execution_count": null,
      "outputs": []
    }
  ]
}