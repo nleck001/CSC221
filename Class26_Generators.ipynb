{
  "nbformat": 4,
  "nbformat_minor": 0,
  "metadata": {
    "colab": {
      "provenance": [],
      "authorship_tag": "ABX9TyOBw+MYyuOJfDerw7Z5mOm9",
      "include_colab_link": true
    },
    "kernelspec": {
      "name": "python3",
      "display_name": "Python 3"
    },
    "language_info": {
      "name": "python"
    }
  },
  "cells": [
    {
      "cell_type": "markdown",
      "metadata": {
        "id": "view-in-github",
        "colab_type": "text"
      },
      "source": [
        "<a href=\"https://colab.research.google.com/github/nleck001/CSC221/blob/main/Class26_Generators.ipynb\" target=\"_parent\"><img src=\"https://colab.research.google.com/assets/colab-badge.svg\" alt=\"Open In Colab\"/></a>"
      ]
    },
    {
      "cell_type": "code",
      "execution_count": null,
      "metadata": {
        "id": "yZzpN6UDQlfn",
        "colab": {
          "base_uri": "https://localhost:8080/"
        },
        "outputId": "3f0a0542-baef-4eb8-edcf-196c74fc0773"
      },
      "outputs": [
        {
          "output_type": "stream",
          "name": "stdout",
          "text": [
            "10\n",
            "9\n",
            "8\n",
            "7\n",
            "6\n",
            "5\n",
            "4\n",
            "3\n",
            "2\n",
            "1\n"
          ]
        }
      ],
      "source": [
        "# Class 26 Generators\n",
        "# Chapter 6 Distiled\n",
        "\n",
        "def gen1(n):\n",
        "    while n>0:\n",
        "        yield n\n",
        "        n -= 1\n",
        "\n",
        "for x in gen1(10):\n",
        "    print(x)"
      ]
    },
    {
      "cell_type": "code",
      "source": [
        "print(type(gen1))\n",
        "\n",
        "obj = gen1(21)\n",
        "print(type(obj))"
      ],
      "metadata": {
        "colab": {
          "base_uri": "https://localhost:8080/"
        },
        "id": "CqZRPi2bokYC",
        "outputId": "fcda7d3e-a3cf-4dc0-9c30-5fdb74f45ceb"
      },
      "execution_count": null,
      "outputs": [
        {
          "output_type": "stream",
          "name": "stdout",
          "text": [
            "<class 'function'>\n",
            "<class 'generator'>\n"
          ]
        }
      ]
    },
    {
      "cell_type": "code",
      "source": [
        "def myrange(start, stop, step):\n",
        "    x = start\n",
        "    while x < stop:\n",
        "        yield x\n",
        "        x += step\n",
        "\n",
        "for x in myrange(5, 20, 3):\n",
        "    print(x)"
      ],
      "metadata": {
        "colab": {
          "base_uri": "https://localhost:8080/"
        },
        "id": "KXx4GBOoooaS",
        "outputId": "0df8e70e-3315-41c4-e613-20fa2bb93993"
      },
      "execution_count": null,
      "outputs": [
        {
          "output_type": "stream",
          "name": "stdout",
          "text": [
            "5\n",
            "8\n",
            "11\n",
            "14\n",
            "17\n"
          ]
        }
      ]
    },
    {
      "cell_type": "code",
      "source": [
        "for x in myrange(25, 6, -2):\n",
        "    print(x)"
      ],
      "metadata": {
        "id": "t_9cnXoyo-US"
      },
      "execution_count": null,
      "outputs": []
    },
    {
      "cell_type": "code",
      "source": [
        "def myrange(start, stop, step):\n",
        "    x = start\n",
        "    if stop > start:\n",
        "        while x < stop:\n",
        "            yield x\n",
        "            x += step\n",
        "    else:\n",
        "        while x > stop:\n",
        "            yield x\n",
        "            x += step"
      ],
      "metadata": {
        "id": "UGMW2Ux4pD8q"
      },
      "execution_count": null,
      "outputs": []
    },
    {
      "cell_type": "code",
      "source": [
        "for x in myrange(5, 20, 3):\n",
        "    print(x)\n",
        "\n",
        "for x in myrange(25, 6, -2):\n",
        "    print(x)"
      ],
      "metadata": {
        "colab": {
          "base_uri": "https://localhost:8080/"
        },
        "id": "RYossDMCpiHM",
        "outputId": "ab1c0258-eb78-49bd-895a-6e7d81979301"
      },
      "execution_count": null,
      "outputs": [
        {
          "output_type": "stream",
          "name": "stdout",
          "text": [
            "5\n",
            "8\n",
            "11\n",
            "14\n",
            "17\n",
            "25\n",
            "23\n",
            "21\n",
            "19\n",
            "17\n",
            "15\n",
            "13\n",
            "11\n",
            "9\n",
            "7\n"
          ]
        }
      ]
    },
    {
      "cell_type": "code",
      "source": [
        "class myrange:\n",
        "    def __init__(self, start, stop, step):\n",
        "        self.start = start\n",
        "        self.stop = stop\n",
        "        self.step = step\n",
        "\n",
        "    def __iter__(self):\n",
        "        self.x = self.start\n",
        "        return self\n",
        "\n",
        "    def __next__(self):\n",
        "        if self.stop > self.start:\n",
        "            if self.x < self.stop:\n",
        "                ret = self.x\n",
        "                self.x += self.step\n",
        "                return ret\n",
        "            else:\n",
        "                raise StopIteration\n",
        "        else:\n",
        "            if self.x > self.stop:\n",
        "                ret = self.x\n",
        "                self.x += self.step\n",
        "                return ret\n",
        "            else:\n",
        "                raise StopIteration\n",
        "\n",
        "\n",
        "for x in myrange(5, 25, 3):\n",
        "    print(x)\n",
        "for x in myrange(25, 3, -2):\n",
        "    print(x)\n"
      ],
      "metadata": {
        "colab": {
          "base_uri": "https://localhost:8080/"
        },
        "id": "MWXd4sdtplIq",
        "outputId": "8cb4f3d9-6bbf-4a93-c5b4-bca20dce1688"
      },
      "execution_count": null,
      "outputs": [
        {
          "output_type": "stream",
          "name": "stdout",
          "text": [
            "5\n",
            "8\n",
            "11\n",
            "14\n",
            "17\n",
            "20\n",
            "23\n",
            "25\n",
            "23\n",
            "21\n",
            "19\n",
            "17\n",
            "15\n",
            "13\n",
            "11\n",
            "9\n",
            "7\n",
            "5\n"
          ]
        }
      ]
    },
    {
      "cell_type": "code",
      "source": [
        "def get_input(prompt):\n",
        "    x = ''\n",
        "    while x != 'q':\n",
        "        x = input(f\"{prompt} ('q' to quit) \")\n",
        "        yield x\n",
        "    print('Bye!')\n",
        "\n",
        "\n",
        "for str in get_input(\"What would you like to execute?\"):\n",
        "    print(str)"
      ],
      "metadata": {
        "colab": {
          "base_uri": "https://localhost:8080/"
        },
        "id": "2iI_2gtbrecw",
        "outputId": "f0d35202-450c-4245-824b-a960a37aef5a"
      },
      "execution_count": null,
      "outputs": [
        {
          "output_type": "stream",
          "name": "stdout",
          "text": [
            "What would you like to execute? ('q' to quit) 13\n",
            "13\n",
            "What would you like to execute? ('q' to quit) 12\n",
            "12\n",
            "What would you like to execute? ('q' to quit) q\n",
            "q\n",
            "Bye!\n"
          ]
        }
      ]
    },
    {
      "cell_type": "code",
      "source": [
        "for str in get_input(\"What would you like to execute?\"):\n",
        "    try:\n",
        "        exec(f'print({str})')\n",
        "    except:\n",
        "        print(f\"I couldn't execute print({str})\")"
      ],
      "metadata": {
        "colab": {
          "base_uri": "https://localhost:8080/"
        },
        "id": "K1FWyBEhth5-",
        "outputId": "deafb72a-5972-4c35-c482-a50cc829a420"
      },
      "execution_count": null,
      "outputs": [
        {
          "output_type": "stream",
          "name": "stdout",
          "text": [
            "What would you like to execute? ('q' to quit) 13\n",
            "13\n",
            "What would you like to execute? ('q' to quit) 13-8\n",
            "5\n",
            "What would you like to execute? ('q' to quit) 12/0\n",
            "I couldn't execute print(12/0)\n",
            "What would you like to execute? ('q' to quit) sum(13,14)\n",
            "I couldn't execute print(sum(13,14))\n",
            "What would you like to execute? ('q' to quit) sum([13, 14])\n",
            "27\n",
            "What would you like to execute? ('q' to quit) [x for x in range(20,50)]\n",
            "[20, 21, 22, 23, 24, 25, 26, 27, 28, 29, 30, 31, 32, 33, 34, 35, 36, 37, 38, 39, 40, 41, 42, 43, 44, 45, 46, 47, 48, 49]\n",
            "What would you like to execute? ('q' to quit) q\n",
            "I couldn't execute print(q)\n",
            "Bye!\n"
          ]
        }
      ]
    },
    {
      "cell_type": "code",
      "source": [],
      "metadata": {
        "id": "vt37xsB2uWo1"
      },
      "execution_count": null,
      "outputs": []
    }
  ]
}